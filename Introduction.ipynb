{
 "cells": [
  {
   "cell_type": "markdown",
   "metadata": {},
   "source": [
    "# Grand Challenge Lecture Series - Healthcare"
   ]
  },
  {
   "cell_type": "markdown",
   "metadata": {},
   "source": [
    "### Team members - Anurag Agrawal, Shray Arora, Shubham Jain, Hemant Menon, Pranati Balodia"
   ]
  },
  {
   "cell_type": "markdown",
   "metadata": {},
   "source": [
    "### Genre - ML in public health and genomics"
   ]
  },
  {
   "cell_type": "markdown",
   "metadata": {},
   "source": [
    "The aim of the project is to predict the \"Gestation Age\" of 3 women based on the 7 multi-omics high-dimensional datasets. \n",
    "\n",
    "The training data consists of 14 women. Gestational age (GA) refers to the length of pregnancy after the first day of the last menstrual period (LMP) and is usually expressed in weeks. "
   ]
  },
  {
   "cell_type": "markdown",
   "metadata": {},
   "source": [
    "<img src = \"Capture.JPG\" />"
   ]
  },
  {
   "cell_type": "markdown",
   "metadata": {},
   "source": [
    "## About data\n"
   ]
  },
  {
   "cell_type": "markdown",
   "metadata": {},
   "source": [
    "### Cell-free RNA transcriptome"
   ]
  },
  {
   "cell_type": "markdown",
   "metadata": {},
   "source": [
    "Cell-free RNA (CfRNA) was extracted from 1 mL of plasma using Plasma/Serum Circulating RNA and Exosomal Purification kit (Norgen, cat 42800) following manufacturer's instructions. The residue of DNA was digested using Baseline-ZERO DNase (Epicentre) and then cleaned by RNA Clean and Concentrator-5kit (Zymo). RNA was eluted to 12 ul in elution buffer.One half of the eluted RNA was used for sequencing library preparation using SMARTer Stranded Total RNA-Seq Kit v2 - Pico Input Mammalian (Clontech)according to the manufacturer’s manual. Short read sequencing was performed using the Illumina NextSeq (2×75 bp) platform to the depth of more than 10 million reads per samples. The sequencing reads were mapped to human reference genome (hg38) using STAR aligner. Duplicates were removed by Picard and then unique reads were quantified using htseq-count.\n"
   ]
  },
  {
   "cell_type": "markdown",
   "metadata": {},
   "source": [
    "### Proteome\n"
   ]
  },
  {
   "cell_type": "markdown",
   "metadata": {},
   "source": [
    "Blood was collected into EDTA tubes, put on ice, centrifuged for 60 minutes, and plasma was stored at −80◦C for further processing. At first analysis was performed in the Human Immune Monitoring Center (HIMC) at Stanford University using a standard human 62-plex kit from eBiosciences/Affymetrix(San Diego, CA) according to the manufacturer’s recommendations.\n"
   ]
  },
  {
   "cell_type": "markdown",
   "metadata": {},
   "source": [
    "### Microbiome\n"
   ]
  },
  {
   "cell_type": "markdown",
   "metadata": {},
   "source": [
    "Whole genomic DNA was extracted from each vaginal swab by means of the PowerSoil DNA isolation kit (MO BIO Laboratories) according to the manufacturer’s protocol.\n"
   ]
  },
  {
   "cell_type": "markdown",
   "metadata": {},
   "source": [
    "### Immunome"
   ]
  },
  {
   "cell_type": "markdown",
   "metadata": {},
   "source": [
    "Entire blood samples were stimulated for 15 min with either LPS, IFNα, a cock-tail containing IL-2 and IL-6, or left unstimulated.\n"
   ]
  },
  {
   "cell_type": "markdown",
   "metadata": {},
   "source": [
    "### Untargeted Metabolome\n"
   ]
  },
  {
   "cell_type": "markdown",
   "metadata": {},
   "source": [
    "Metabolites were extracted from plasma and analyzed using a broad coverage untargeted metabolomics platform as described previously."
   ]
  },
  {
   "cell_type": "markdown",
   "metadata": {},
   "source": [
    "## Synopsis of approach"
   ]
  },
  {
   "cell_type": "markdown",
   "metadata": {},
   "source": [
    "- Reading data into dataframe\n",
    "- Combining different dataframes together using merge\n",
    "- Feature scaling using minmax scaler \n",
    "- Using TSNE for visualization\n",
    "- Check for missing values \n",
    "- Train- test split \n",
    "- Using Random forest Regressor \n",
    "- Using ElasticNet"
   ]
  },
  {
   "cell_type": "code",
   "execution_count": null,
   "metadata": {},
   "outputs": [],
   "source": []
  }
 ],
 "metadata": {
  "kernelspec": {
   "display_name": "Python [conda env:root] *",
   "language": "python",
   "name": "conda-root-py"
  },
  "language_info": {
   "codemirror_mode": {
    "name": "ipython",
    "version": 3
   },
   "file_extension": ".py",
   "mimetype": "text/x-python",
   "name": "python",
   "nbconvert_exporter": "python",
   "pygments_lexer": "ipython3",
   "version": "3.7.3"
  }
 },
 "nbformat": 4,
 "nbformat_minor": 2
}
